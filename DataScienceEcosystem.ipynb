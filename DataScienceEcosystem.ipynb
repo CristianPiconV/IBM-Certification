{
 "cells": [
  {
   "cell_type": "markdown",
   "id": "0c098b1a-b586-4cd0-8916-6455e96fcc83",
   "metadata": {
    "tags": []
   },
   "source": [
    "# Data Science Tools and Ecosystem"
   ]
  },
  {
   "cell_type": "markdown",
   "id": "f045832f-276a-4a74-b35e-f74b46f107e1",
   "metadata": {},
   "source": [
    "In this notebook, Data Science Tools and Ecosystem are summarized."
   ]
  },
  {
   "cell_type": "markdown",
   "id": "794c3c43-2ec0-4cdb-ac84-9bbf810520fb",
   "metadata": {},
   "source": [
    "**Objectives:**\n",
    "\n",
    "- Explore and list popular languages for Data Science.\n",
    "- Identify and describe commonly used libraries in Data Science.\n",
    "- Introduce Data Science tools, including development environments.\n",
    "- Provide examples of evaluating arithmetic expressions in Python.\n",
    "- Demonstrate converting units, such as minutes to hours, using Python.\n"
   ]
  },
  {
   "cell_type": "markdown",
   "id": "f687e8b6-5a5f-4d6f-980e-de0050ce2e7c",
   "metadata": {},
   "source": [
    "Some of the popular languages that Data Scientists use are:\n",
    "\n",
    "1. **Python**: Widely adopted for its simplicity, versatility, and rich ecosystem of libraries such as NumPy, Pandas, and scikit-learn.\n",
    "\n",
    "2. **R**: Known for its statistical capabilities, R is commonly used for data analysis, visualization, and statistical modeling.\n",
    "\n",
    "3. **Julia**: A high-performance language for technical computing, Julia is gaining popularity in data science for its speed and ease of use.\n",
    "    "
   ]
  },
  {
   "cell_type": "markdown",
   "id": "96ef6fca-590d-4d53-a626-8601a46ec666",
   "metadata": {},
   "source": [
    "Some of the commonly used libraries by Data Scientists include:\n",
    "\n",
    "1. **NumPy**: A fundamental library for scientific computing in Python, providing support for large, multi-dimensional arrays and matrices, along with mathematical functions.\n",
    "\n",
    "2. **Pandas**: Built on top of NumPy, Pandas offers data structures like DataFrame for efficient data manipulation and analysis. It is widely used for handling and cleaning datasets.\n",
    "\n",
    "3. **scikit-learn**: A machine learning library for Python that provides simple and efficient tools for data analysis and modeling, including classification, regression, clustering, and more.\n",
    "\n",
    "4. **TensorFlow**: An open-source machine learning framework developed by Google for building and training deep learning models.\n",
    "\n"
   ]
  },
  {
   "cell_type": "markdown",
   "id": "4ad2b87f-9724-4db0-b5b1-ea1d366d7e21",
   "metadata": {},
   "source": [
    "| Data Science Tools         |\n",
    "| -------------------------- |\n",
    "| **Jupyter Notebooks**      |\n",
    "| **RStudio**                |\n",
    "| **VS Code with Python**    |\n"
   ]
  },
  {
   "cell_type": "markdown",
   "id": "9b0e6940-1656-4aa7-942a-5c23e2ce7e2f",
   "metadata": {},
   "source": [
    "### Below are a few examples of evaluating arithmetic expressions in Python\n"
   ]
  },
  {
   "cell_type": "code",
   "execution_count": 3,
   "id": "055dc7fe-40c1-4a32-a43c-512a191c75a1",
   "metadata": {},
   "outputs": [
    {
     "data": {
      "text/plain": [
       "17"
      ]
     },
     "execution_count": 3,
     "metadata": {},
     "output_type": "execute_result"
    }
   ],
   "source": [
    "# This is a simple arithmetic expression to multiply then add integers.\n",
    "result = (3 * 4) + 5\n",
    "result\n"
   ]
  },
  {
   "cell_type": "code",
   "execution_count": 6,
   "id": "325c3a9a-cf92-42c4-8b66-f2c88869582e",
   "metadata": {},
   "outputs": [
    {
     "data": {
      "text/plain": [
       "3.3333333333333335"
      ]
     },
     "execution_count": 6,
     "metadata": {},
     "output_type": "execute_result"
    }
   ],
   "source": [
    "# This will convert 200 minutes to hours by dividing by 60.\n",
    "minutes = 200\n",
    "hours = minutes / 60\n",
    "hours\n"
   ]
  },
  {
   "cell_type": "markdown",
   "id": "b7520819-31e6-49ae-b874-660f64899bc4",
   "metadata": {},
   "source": [
    "## Author\n",
    "\n",
    "Cristian Picón Viana\n"
   ]
  }
 ],
 "metadata": {
  "kernelspec": {
   "display_name": "Python 3 (ipykernel)",
   "language": "python",
   "name": "python3"
  },
  "language_info": {
   "codemirror_mode": {
    "name": "ipython",
    "version": 3
   },
   "file_extension": ".py",
   "mimetype": "text/x-python",
   "name": "python",
   "nbconvert_exporter": "python",
   "pygments_lexer": "ipython3",
   "version": "3.9.13"
  }
 },
 "nbformat": 4,
 "nbformat_minor": 5
}
